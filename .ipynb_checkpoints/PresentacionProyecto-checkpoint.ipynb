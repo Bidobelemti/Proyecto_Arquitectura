{
 "cells": [
  {
   "cell_type": "markdown",
   "id": "6cccf8f2-8925-42e2-8f3b-9891af701e72",
   "metadata": {
    "editable": true,
    "slideshow": {
     "slide_type": "slide"
    },
    "tags": []
   },
   "source": [
    "# Arquitectura De Computadores (ICCD332)\n",
    "# Proyecto primer bimestre\n",
    "## Estudiante: Bryan Morales\n",
    "----"
   ]
  },
  {
   "cell_type": "markdown",
   "id": "6c0656c3-a975-48a7-b972-76cfcf105147",
   "metadata": {
    "editable": true,
    "slideshow": {
     "slide_type": "subslide"
    },
    "tags": []
   },
   "source": [
    "Se abordarán los siguientes puntos:\n",
    "- Representación IEEE 754\n",
    "- Implementación en Python\n",
    "- Comparación de resultados obtenidos"
   ]
  },
  {
   "cell_type": "markdown",
   "id": "eaa365c2-6f70-41c4-8176-4a99dff1ce17",
   "metadata": {
    "editable": true,
    "slideshow": {
     "slide_type": "slide"
    },
    "tags": []
   },
   "source": [
    "# Objetivos\n",
    "\n",
    "- Comprender el funcionamiento del calculo y representación de un número decimal en su representación en punto flotante con 32 bits.\n",
    "- Establecer una comparativa entre el resultado obtenido con el que se obtiene de un conversor online "
   ]
  },
  {
   "cell_type": "markdown",
   "id": "e86c16c1-bad2-4de3-8993-e545964b78c1",
   "metadata": {
    "editable": true,
    "slideshow": {
     "slide_type": "slide"
    },
    "tags": []
   },
   "source": [
    "# Representación de un número en IEEE 754\n",
    "\n",
    "Los componentes para representar dado el formato son tres: signo (S), exponente (E) y la mantisa (M)\n",
    "\n",
    "- Signo\n",
    "  - Un bit que indica el signo del número\n",
    "- Exponente\n",
    "  - Conjunto de bits que representan el exponente en notación desplazada\n",
    "- Mantisa\n",
    "  - Parte significativa del número"
   ]
  },
  {
   "cell_type": "markdown",
   "id": "cb6567e1-e7cc-471e-a974-1ae41e03d334",
   "metadata": {
    "editable": true,
    "slideshow": {
     "slide_type": "subslide"
    },
    "tags": []
   },
   "source": [
    "A su vez posee dos tipos de formato, uno con 32 bits y otro con 64 bits.\n",
    "\n",
    "- Simple precisión (32 bits)\n",
    "  - 1 bit de signo\n",
    "  - 8 bits para el exponente\n",
    "  - 23 bits para la mantisa\n",
    "\n",
    "![Representación en 32 bits](images/ieee754-32.png)\n",
    "- Doble precisión (64 bits)\n",
    "  - 1 bit de signo\n",
    "  - 11 bits para el exponente\n",
    "  - 52 bits para la mantisa\n",
    "\n",
    "![Representación en 64 bits](images/ieee754.png)"
   ]
  },
  {
   "cell_type": "markdown",
   "id": "a849bf41-f053-4ddf-a601-948cb37c29fa",
   "metadata": {
    "editable": true,
    "slideshow": {
     "slide_type": "slide"
    },
    "tags": []
   },
   "source": [
    "# Implementación en Python"
   ]
  },
  {
   "cell_type": "markdown",
   "id": "a0802333-e299-482c-a1aa-012b2b8a0ac9",
   "metadata": {
    "editable": true,
    "slideshow": {
     "slide_type": "subslide"
    },
    "tags": []
   },
   "source": [
    "Para lo cual se tienen los las siguientes funciones \n",
    "| Nombre | Argumentos | Retorno | Uso |\n",
    "|--------|------------|---------|-----|\n",
    "|separarDecEnt| x: float| parte_entera, parte_decimal| Separar parte entera de la decimal de un número|\n",
    "|binarioDecimal| x: str| binario_decimal | Convierte un número decimal en binario|\n",
    "|CalcularExponente | x: int| exp_bin | Calcula el exponente del punto flotante |\n",
    "|CalcularMantisa | x,y :str | mantisa | Calcula la mantisa del punto flotante |\n",
    "|transformarDecimal | x: list[int] | subcadena | Calcula en cuartetos de binario a decimal |\n",
    "|transformarHex | x: list[int] | expHex | Trasforma de decimal a hexadecimal |"
   ]
  },
  {
   "cell_type": "markdown",
   "id": "e753be95-c0da-41cf-af13-916b5d1cd16e",
   "metadata": {
    "editable": true,
    "slideshow": {
     "slide_type": "slide"
    },
    "tags": []
   },
   "source": [
    "# Resultados obtenidos"
   ]
  },
  {
   "cell_type": "markdown",
   "id": "9941fb12-313a-4693-a96c-1673e113ba57",
   "metadata": {
    "editable": true,
    "slideshow": {
     "slide_type": "subslide"
    },
    "tags": []
   },
   "source": [
    "Al realizar la ejecución del código se obtiene lo siguiente:\n",
    "\n",
    "|Número decimal | Representación IEEE 754 | Representación Hexadecimal |\n",
    "|----------------|-----------------------|-----------------------------|\n",
    "|1.2356|0 01111111 00111100010100000100100|3f9e2824|\n",
    "|-100.1|1 10000101 10010000011001100110011|c2c83333|\n",
    "|1.01|0 01111111 00000010100011110101110|3f8147ae|\n",
    "|25.123456789|0 01111111 00000010100011110101110|3f8147ae|"
   ]
  },
  {
   "cell_type": "markdown",
   "id": "ad678299-ec5e-45a8-8bd1-27c41ba22eb4",
   "metadata": {
    "editable": true,
    "slideshow": {
     "slide_type": "subslide"
    },
    "tags": []
   },
   "source": [
    "Al realizar la ejecución en base al conversor se tiene:\n",
    "|Número decimal | Representación IEEE 754 | Representación Hexadecimal |\n",
    "|----------------|-----------------------|-----------------------------|\n",
    "|1.2356|00111111100111100010100000100100|3f9e2824|\n",
    "|-100.1|11000010110010000011001100110011|c2c83333|\n",
    "|1.01|00111111100000010100011110101110|3f8147ae|\n",
    "|25.123456789|00111111100000010100011110101110|3f8147ae|\n"
   ]
  },
  {
   "cell_type": "code",
   "execution_count": null,
   "id": "e6d75c91-d9a6-4061-93e1-88deaac75b16",
   "metadata": {},
   "outputs": [],
   "source": []
  }
 ],
 "metadata": {
  "kernelspec": {
   "display_name": "Python 3 (ipykernel)",
   "language": "python",
   "name": "python3"
  },
  "language_info": {
   "codemirror_mode": {
    "name": "ipython",
    "version": 3
   },
   "file_extension": ".py",
   "mimetype": "text/x-python",
   "name": "python",
   "nbconvert_exporter": "python",
   "pygments_lexer": "ipython3",
   "version": "3.12.3"
  }
 },
 "nbformat": 4,
 "nbformat_minor": 5
}
