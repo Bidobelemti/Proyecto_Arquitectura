{
 "cells": [
  {
   "cell_type": "code",
   "execution_count": 1,
   "metadata": {},
   "outputs": [
    {
     "data": {
      "text/plain": [
       "'\\n    Convertidor IEEE754 - Coma Flotante\\n    tener presente que:\\n        bit     representa\\n        1       signo\\n        8       exponente\\n        23      mantisa\\n\\n'"
      ]
     },
     "execution_count": 1,
     "metadata": {},
     "output_type": "execute_result"
    }
   ],
   "source": [
    "from sympy import Abs\n",
    "\"\"\"\n",
    "    Convertidor IEEE754 - Coma Flotante\n",
    "    tener presente que:\n",
    "        bit     representa\n",
    "        1       signo\n",
    "        8       exponente\n",
    "        23      mantisa\n",
    "\n",
    "\"\"\""
   ]
  },
  {
   "cell_type": "code",
   "execution_count": 2,
   "metadata": {},
   "outputs": [],
   "source": [
    "def separarDecEnt(x:float):\n",
    "    numero = str(Abs(x))\n",
    "    partes = numero.split(\".\")\n",
    "    parte_entera = partes[0] if partes else \"\"\n",
    "    parte_decimal = partes[1] if partes and len(partes) > 1 else \"\"\n",
    "    return parte_entera, parte_decimal"
   ]
  },
  {
   "cell_type": "code",
   "execution_count": 3,
   "metadata": {},
   "outputs": [],
   "source": [
    "def binarioDecimal(x:str):\n",
    "    num = int(x)\n",
    "    dec = num/(10**len(x))\n",
    "    binario_decimal = ''\n",
    "    for n in range(23):\n",
    "         bin = int(dec * 2)\n",
    "         dec = -bin + dec * 2\n",
    "         binario_decimal+=str(bin)\n",
    "    return binario_decimal\n"
   ]
  },
  {
   "cell_type": "code",
   "execution_count": 4,
   "metadata": {},
   "outputs": [],
   "source": [
    "def CalcularExponente(x:int):\n",
    "    exp = 127+x\n",
    "    if exp <= 127:\n",
    "        exp_bin = bin(exp).replace('0b','')\n",
    "        exp_bin = '0'+exp_bin\n",
    "    else:\n",
    "        exp_bin = bin(exp).replace('0b','')\n",
    "    return exp_bin"
   ]
  },
  {
   "cell_type": "code",
   "execution_count": 5,
   "metadata": {},
   "outputs": [],
   "source": [
    "def CalcularMantisa(x:str, y:str):\n",
    "    mantisa = x + y\n",
    "    mantisa = mantisa[:23]\n",
    "    return mantisa\n"
   ]
  },
  {
   "cell_type": "code",
   "execution_count": 6,
   "metadata": {},
   "outputs": [],
   "source": [
    "def transformarDecimal(x:list[str]):\n",
    "    subcadena = []\n",
    "    for i in x:\n",
    "        dec = 0\n",
    "        for j in range(0, len(i), 4):\n",
    "            cuarteto = i[j:j+4]\n",
    "            dec += int(cuarteto,2 )\n",
    "        subcadena.append(dec)\n",
    "    return subcadena\n"
   ]
  },
  {
   "cell_type": "code",
   "execution_count": 7,
   "metadata": {},
   "outputs": [],
   "source": [
    "def transformarHex(x:list[int]):\n",
    "    expHex = ''\n",
    "    for i in x:\n",
    "        expHex += hex(i).replace('0x','')\n",
    "    return expHex\n"
   ]
  },
  {
   "cell_type": "code",
   "execution_count": 9,
   "metadata": {},
   "outputs": [
    {
     "name": "stdout",
     "output_type": "stream",
     "text": [
      "10000011\n",
      "El número 25.3 representado en IEE754 es 0 10000011 10010100110011001100110 y su expresión en Hexadecimal es 41ca6666\n"
     ]
    }
   ],
   "source": [
    "def __main__():\n",
    "    x = input('Ingrese el valor a transformar: ')\n",
    "    try:\n",
    "        x = float(x)\n",
    "        entero, decimal = separarDecEnt(x)\n",
    "        bin_entero = bin(int(entero))\n",
    "        bin_entero = bin_entero.replace('0b', '')\n",
    "        bin_dec = binarioDecimal(decimal)\n",
    "\n",
    "        signo = 1 if x < 0 else 0\n",
    "        \n",
    "        exponente = CalcularExponente(x=len(bin_entero)-1)\n",
    "        print(exponente)\n",
    "        mantisa = CalcularMantisa(x=bin_entero[1:],y=bin_dec)\n",
    "\n",
    "        numeroIEEE754 = str(signo)+exponente+mantisa\n",
    "        subcadenas = [numeroIEEE754[i:i+4] for i in range(0, len(numeroIEEE754), 4)]\n",
    "\n",
    "        cadenaDecimales = transformarDecimal(subcadenas)\n",
    "        cadenaHexadecimal = transformarHex(cadenaDecimales)\n",
    "\n",
    "\n",
    "        print(f'El número {x} representado en IEE754 es {signo} {exponente} {mantisa} y su expresión en Hexadecimal es {cadenaHexadecimal}')\n",
    "\n",
    "    except ValueError:\n",
    "        return 'Ingrese un valor numérico válido'\n",
    "\n",
    "__main__()"
   ]
  },
  {
   "cell_type": "code",
   "execution_count": null,
   "metadata": {},
   "outputs": [],
   "source": []
  }
 ],
 "metadata": {
  "kernelspec": {
   "display_name": "Python 3 (ipykernel)",
   "language": "python",
   "name": "python3"
  },
  "language_info": {
   "codemirror_mode": {
    "name": "ipython",
    "version": 3
   },
   "file_extension": ".py",
   "mimetype": "text/x-python",
   "name": "python",
   "nbconvert_exporter": "python",
   "pygments_lexer": "ipython3",
   "version": "3.12.3"
  }
 },
 "nbformat": 4,
 "nbformat_minor": 4
}
